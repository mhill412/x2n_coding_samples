{
 "cells": [
  {
   "cell_type": "markdown",
   "metadata": {},
   "source": [
    "# **ESS314: LAB 7: Magnetics**\n",
    "\n",
    "**For this lab, you will need to submit this .ipynb file, as well as separate math from Question 3, and drawings or plots from Questions 6 and 9a.** *As usual, questions for submission are in italics.*\n"
   ]
  },
  {
   "cell_type": "markdown",
   "metadata": {},
   "source": [
    "Today we will return to GRAVMAG and look at some magnetic data. The magnetic method is quite complicated, so first we will do a few exercises to improve our understanding of the Earth’s magnetic field."
   ]
  },
  {
   "cell_type": "markdown",
   "metadata": {},
   "source": [
    "The intensity of the Earth’s magnetic field at some location on the Earth’s surface can be written as a vector $F_{E}$, defined by its inclination i (the angle the vector makes with a horizontal plane) and its declination d (the horizontal angle from geographic north). **Figure 1** below illustrates these concepts. If you find **Figure 1** a little confusing, then **Figure 2** below illustrates these concepts in a different way using a compass needle. Note that Z is positive down."
   ]
  },
  {
   "cell_type": "code",
   "execution_count": 1,
   "metadata": {},
   "outputs": [],
   "source": [
    "import numpy as np\n",
    "import matplotlib.pyplot as plt\n",
    "from IPython import display\n",
    "from base64 import b64decode"
   ]
  },
  {
   "cell_type": "markdown",
   "metadata": {},
   "source": [
    "![](Fig1.png)\n",
    " <center> **Figure 1.** Diagram illustrating vector FE and its constituent vectors, along with declination and inclination angles d and i, respectively."
   ]
  },
  {
   "cell_type": "markdown",
   "metadata": {},
   "source": [
    "![](Fig2.png)\n",
    "**Figure 2.** Representation of vector FE and its constituent vectors, along with declination and inclination angles d and i, respectively, using a compass schematic."
   ]
  },
  {
   "cell_type": "markdown",
   "metadata": {},
   "source": [
    "The total magnetic field can be broken down into its horizontal $H_E$ and vertical $Z_E$ components and be represented as\n",
    "\n",
    "$$F_E = \\sqrt{ (H_E)^2 + (Z_E)^2  }.$$ <div style=\"text-align: right\"> (1) </div>\n",
    "    \n",
    "$H_E$ can be further resolved into northward and eastward components ($X_E$ and $Y_E$, respectively):\n",
    "\n",
    "$$H_E = \\sqrt{ (X_E)^2 + (Y_E)^2  }.$$ <div style=\"text-align: right\"> (2) </div>\n",
    "    \n",
    "Combining equations (1) and (2), one can represent the magnetic field using\n",
    "    \n",
    "$$F_E = \\sqrt{ (X_E)^2 + (Y_E)^2 + (Z_E)^2 }.$$ <div style=\"text-align: right\"> (3) </div>\n"
   ]
  },
  {
   "cell_type": "markdown",
   "metadata": {},
   "source": [
    "### **Question 1:** \n",
    "Use simple trigonometry to derive the following formulas. We will do the expression for $H_E$ together in lab. Use the previous cell to learn how to write equations in Markdown. Markdown follows the LateX conventions. Enter an equation within the ``$ $`` to enter the mathematical environment, and follow LateX guidelines for the notations (operators, greek letters, powers and indices, fractions, roots, sums and integrals, brackets, ...) (https://en.wikibooks.org/wiki/LaTeX/Mathematics)\n",
    "\n",
    ">a. *Express $H_E$ and $Z_E$ in terms of the angle of inclination and the total field magnitude.*"
   ]
  },
  {
   "cell_type": "markdown",
   "metadata": {},
   "source": [
    "\n",
    "$$H_E = { (F_E) \\cos (i)  }.$$ <div style=\"text-align: right\">  </div>\n",
    "\n",
    "$$Z_E = { (F_E) \\cos (90-i)  }.$$ <div style=\"text-align: right\">  </div>"
   ]
  },
  {
   "cell_type": "markdown",
   "metadata": {},
   "source": [
    ">b. *Express $X_E$ and $Y_E$ in terms of the total field magnitude and the angles of inclination and\n",
    "declination.*"
   ]
  },
  {
   "cell_type": "markdown",
   "metadata": {},
   "source": [
    "$$ (X_E) = { \\cos (d) (F_E) \\cos (i)  }.$$ <div style=\"text-align: right\">  </div>\n",
    "$$ (Y_E) = { \\cos (90-d) (F_E) \\cos (i)  }.$$ <div style=\"text-align: right\">  </div>"
   ]
  },
  {
   "cell_type": "markdown",
   "metadata": {},
   "source": [
    ">c. *Assume the magnetic field vector is (4, 1, 1). Calculate the inclination and declination\n",
    "using the formulas you derived above.*"
   ]
  },
  {
   "cell_type": "code",
   "execution_count": 2,
   "metadata": {},
   "outputs": [
    {
     "name": "stdout",
     "output_type": "stream",
     "text": [
      "13.633022225366418 14.03624346792643\n"
     ]
    }
   ],
   "source": [
    "xe = 4\n",
    "ye = 1\n",
    "ze = 1\n",
    "fe = np.sqrt(xe**2 + ye**2 + ze**2)\n",
    "i = 90 - np.degrees(np.arccos(ze/fe))\n",
    "d = np.degrees(np.arccos(xe/(fe*np.cos(np.radians(i)))))\n",
    "print(i, d)"
   ]
  },
  {
   "cell_type": "markdown",
   "metadata": {},
   "source": [
    "If the magnetic field of the earth could be produced by a simple north-south dipole (**Figure 3**), then inclination would be 0° anywhere along the equator, 90° (down) at the north pole and -90° (up) at the south pole."
   ]
  },
  {
   "cell_type": "markdown",
   "metadata": {},
   "source": [
    "![](Fig3.png)\n",
    "**Figure 3.** The magnetic field around a sphere produced by a dipole."
   ]
  },
  {
   "cell_type": "markdown",
   "metadata": {},
   "source": [
    "However, the Earth’s magnetic field is imperfect. The magnetic equator (where i = 0°) is\n",
    "irregular (**Figure 4**). Additionally, the inclination is ±90° at the north and south magnetic poles.\n",
    "This is why **magnetic north does not equal true north.** "
   ]
  },
  {
   "cell_type": "markdown",
   "metadata": {},
   "source": [
    "![](Fig4.png)\n",
    "**Figure 4.** Global magnetic inclination values. Source: https://www.ngdc.noaa.gov/geomag/WMM/"
   ]
  },
  {
   "cell_type": "markdown",
   "metadata": {},
   "source": [
    "Therefore, while the Earth’s magnetic field is not perfect, it is close and is often approximated by a magnetic field produced by a dipole tilted 11.5° to the Earth’s axis of rotation. This reproduces 90% of the Earth’s magnetic field, and we can use this approximation for the vertical and horizontal components of the magnetic field at some point."
   ]
  },
  {
   "cell_type": "markdown",
   "metadata": {},
   "source": [
    "### **Question 2:** \n",
    "> *In your own words, describe the distinctions between the geographic poles, the magnetic poles, and the geomagnetic poles.*"
   ]
  },
  {
   "cell_type": "markdown",
   "metadata": {},
   "source": [
    "The geographic poles are where the lines of longitude converge at the North and South Pole. The magnetic poles are where the lines of magnetic attraction enter the earth, at the time in Canada and Antarctica. The geomagnetics poles are where the ideal dipole model for the earth would have these poles."
   ]
  },
  {
   "cell_type": "markdown",
   "metadata": {},
   "source": [
    "A magnetic field is a potential field. The potential $V$ for a monopole is expressed by\n",
    "\n",
    "\n",
    "\\begin{align}\n",
    "V = -\\int_\\infty^r \\frac{m}{r^2} dr, \\label{eq4}\\tag{4} \n",
    "\\end{align}\n",
    "    \n",
    "   \n",
    "where $m$ is the pole strength and $r$ is the distance from the pole.\n"
   ]
  },
  {
   "cell_type": "markdown",
   "metadata": {},
   "source": [
    "### **Question 3:** \n",
    "\n",
    ">*Solve the integral to get a simpler equation for potential. Show your work.*"
   ]
  },
  {
   "cell_type": "markdown",
   "metadata": {},
   "source": [
    "v = -m/r\n",
    "\n",
    "![](q3.JPG)"
   ]
  },
  {
   "cell_type": "markdown",
   "metadata": {},
   "source": [
    "submit your math to canvas either integrated in the notebook text (following LateX/Markddown), or as a separate document / image"
   ]
  },
  {
   "cell_type": "markdown",
   "metadata": {},
   "source": [
    "Without going through extensive derivations, the magnetic potential at point $P$ due to a dipole is\n",
    "\n",
    "\\begin{align} \n",
    "V = \\frac{M\\cos\\theta}{r^2}, \\label{eq5}\\tag{4}\n",
    "\\end{align}\n"
   ]
  },
  {
   "cell_type": "markdown",
   "metadata": {},
   "source": [
    "where $M$ is the magnetic moment, $\\theta$ is the angle from the dipole to point $P$ (90-latitude for a geocentric dipole), and $r$ is the distance between point $P$ and the dipole. By taking the negative derivatives of the potential in spherical coordinates, one could derive the following equations for the radial and tangential components of the magnetic field:\n",
    "\n",
    "\\begin{align}\n",
    "H_r &= -Z_E = \\frac{2M\\cos\\theta}{r^3}. \\label{eq6}\\tag{6}\\\\\n",
    "H_\\theta &= -X_E = \\frac{M\\sin\\theta}{r^3}.\\label{eq7}\\tag{7}\n",
    "\\end{align}"
   ]
  },
  {
   "cell_type": "markdown",
   "metadata": {},
   "source": [
    "Because the Earth is spherical, the radial component $H_r$ is equivalent to the vertical field and the tangential component $H_\\theta$ is equivalent to the horizontal southward pointing field. The E-W component of a dipole field ($Y_E$) is zero. See **Figure 5** below for a visualization of this."
   ]
  },
  {
   "cell_type": "markdown",
   "metadata": {},
   "source": [
    "![](Fig5.png)\n",
    "**Figure 5.** Some important features of the Earth’s magnetic field."
   ]
  },
  {
   "cell_type": "markdown",
   "metadata": {},
   "source": [
    "### **Question 4:** \n",
    "\n",
    "Assume a radius of 6371 km for the Earth and a magnetic moment of the imaginary dipole responsible for the majority of Earth’s field as 8 x 10^25 emu.\n",
    "\n",
    ">a. *Estimate the horizontal $H_e$ and vertical $Z_e$ fields at the 2006 North magnetic pole in nanoTeslas (latitude 80°; Figure 6). Note that $\\theta$ is the colatitude (90 – latitude). The radius, $r$, must be expressed in centimeters. The answer you will get is expressed in oersteds. Multiply by 105 to get the answer in nanoTeslas (nT).*\n"
   ]
  },
  {
   "cell_type": "code",
   "execution_count": 4,
   "metadata": {
    "tags": []
   },
   "outputs": [
    {
     "name": "stdout",
     "output_type": "stream",
     "text": [
      "5372.017289611318\n",
      "-60932.447978489356\n"
     ]
    }
   ],
   "source": [
    "# calculate here USING CODE!!! SHOW YOUR WORK!\n",
    "theta = 10 * (np.pi/180) #radians\n",
    "m =  8 * 10**25 #emu\n",
    "r = 6.371 * 10**8 #cm\n",
    "he = (m*np.sin(theta))/r**3 * (10**5)\n",
    "ze = -(2*m*np.cos(theta))/r**3 * (10**5)\n",
    "print(he)\n",
    "print(ze)"
   ]
  },
  {
   "cell_type": "markdown",
   "metadata": {},
   "source": [
    ">b. *Calculate the total field strength in nanoteslas.*"
   ]
  },
  {
   "cell_type": "code",
   "execution_count": 5,
   "metadata": {},
   "outputs": [
    {
     "name": "stdout",
     "output_type": "stream",
     "text": [
      "61168.79749031523\n"
     ]
    }
   ],
   "source": [
    "# calculate here USING CODE!!! SHOW YOUR WORK!\n",
    "fe = np.sqrt(he**2 + ze**2)\n",
    "print(fe)"
   ]
  },
  {
   "cell_type": "markdown",
   "metadata": {},
   "source": [
    ">c. *How well does it approximate the actual field strength as shown in Figure 6 below?*"
   ]
  },
  {
   "cell_type": "markdown",
   "metadata": {},
   "source": [
    "The number is a little higher than the expected value which should be around 59,000 nanoTeslas."
   ]
  },
  {
   "cell_type": "markdown",
   "metadata": {},
   "source": [
    ">d. *What does the value in part c represent?*"
   ]
  },
  {
   "cell_type": "markdown",
   "metadata": {},
   "source": [
    "This value represents the magnitude (strength) of the magnetic field at the point P. "
   ]
  },
  {
   "cell_type": "markdown",
   "metadata": {},
   "source": [
    "### **Question 5:** \n",
    ">*What is the ratio of the dipole total field strength at the equator to that at the pole?*\n",
    "\n",
    "At the equator the magnetic field is about half of what it is at the magnetic poles."
   ]
  },
  {
   "cell_type": "markdown",
   "metadata": {},
   "source": [
    "![](Fig6.png)\n",
    "**Figure 6.** Values of total intensity for the geomagnetic field (FE) in 2006 for a portion of the Western Hemisphere."
   ]
  },
  {
   "cell_type": "markdown",
   "metadata": {},
   "source": [
    "In a magnetic survey we look for perturbations between the observed magnetic field and a reference field. These perturbations are from smaller magnetic fields induced by geologic bodies.\n",
    "\n",
    "\n",
    "The magnetic field that we actually measure is the sum of Earth’s magnetic field at the point of study and the anomalous field produced by a geologic body or bodies. However, we are interested in the total field anomaly in the direction of Earth’s main field. This is referred to as $F_{AT}$. $F_{AT}$ depends on the vertical and horizontal components of the anomalous field ($Z_A$ and $H_A$, respectively) and the inclination *i*:\n",
    "\n",
    "\\begin{align}\n",
    "F_{AT} = Z_A\\sin{i} + H_A\\cos{i}.\\label{eq8}\\tag{8}\n",
    "\\end{align}"
   ]
  },
  {
   "cell_type": "markdown",
   "metadata": {},
   "source": [
    "The next few questions are designed to help you gain some basic intuition on what the magnetic field induced in a simple geological body looks like."
   ]
  },
  {
   "cell_type": "markdown",
   "metadata": {},
   "source": [
    "### **Question 6:** \n",
    "At each location indicated below, determine whether the vertical or horizontal components of the anomalous magnetic field will be more important. Illustrate your answers using vectors.\n",
    "\n",
    ">a. *Near the poles*"
   ]
  },
  {
   "cell_type": "markdown",
   "metadata": {},
   "source": [
    "horizontal because the dip angle at the poles is 90 degrees, so we see horizontal motion as the anomalies."
   ]
  },
  {
   "cell_type": "markdown",
   "metadata": {},
   "source": [
    ">b. *Near the equator*"
   ]
  },
  {
   "cell_type": "markdown",
   "metadata": {},
   "source": [
    "vertical because near the equator, the field lines are parallel to the surface and the dip angle is 0 degrees, so vertical motion is anomalous."
   ]
  },
  {
   "cell_type": "markdown",
   "metadata": {},
   "source": [
    "> submit a drawing to Canvas and/or import here. Give a 1-2 sentence explanation for each.\n",
    "\n",
    "![](q6.JPG)"
   ]
  },
  {
   "cell_type": "markdown",
   "metadata": {},
   "source": [
    "You just proved that the component (vertical or horizontal) that affects the total induced field the most depends on latitude. Latitude also affects the orientation of Earth’s magnetic field, which induces the magnetic field in the geologic body. This gets confusing, because as you change latitude, not only are you seeing different contributions from the horizontal and vertical field in the total field, but you are also seeing changes in the horizontal and vertical fields themselves. **YIKES!**\n",
    "\n",
    "## Buried Spherical Body"
   ]
  },
  {
   "cell_type": "code",
   "execution_count": 3,
   "metadata": {},
   "outputs": [],
   "source": [
    "# below we define a function that calculates the anomaly based on a buried magnetic sphere\n",
    "# function takes the inputs z, R, k, x, inc\n",
    "# function outputs the values of Z_a, H_a, and F_at\n",
    "\n",
    "# z is the depth of the sphere in meters\n",
    "# R is the radius of the sphere in meters\n",
    "# k is the magnetic susceptibility in cgs emu (cm^(1/2)/s)\n",
    "# x is the position on the surface in meters (x=0 is above center of sphere)\n",
    "# inc is the inclination in degrees\n",
    "\n",
    "# do not alter this part since this is where we define it\n",
    "# skip ahead to the next cell to call the function\n",
    "\n",
    "def mag_sphere(z,R,k,x,inc):\n",
    "    # changes inclination if 0\n",
    "    if inc == 0: # in DEGREES - changed to radians in script\n",
    "        inc = 1e-10\n",
    "\n",
    "    # calculate magnetic field strength\n",
    "    theta = np.arctan(np.tan(np.deg2rad(inc))/2) #inclination to colatitude - this is in radians now\n",
    "    eR = 6.4e8\n",
    "    M = 8e25\n",
    "    Z_e = ((2*M*np.cos(theta))/(eR**3))*(10**5)\n",
    "    H_e = ((M*np.sin(theta))/(eR**3))*(10**5)\n",
    "    F_e = np.sqrt(Z_e**2+H_e**2)\n",
    "    \n",
    "    a = (4/3)*np.pi*(R**3)*k*F_e\n",
    "    b = (x**2+z**2)**(3/2)\n",
    "    c = (3*(z**2))/(x**2+z**2)\n",
    "    \n",
    "    incr = np.deg2rad(inc) # convert degres to radian\n",
    "\n",
    "    Z_a = ((((4/3)*np.pi*R**3*k*F_e)*np.sin(incr))/(x**2+z**2)**(3/2))*(((3*z**2)/(x**2+z**2))-((3*x*z/np.tan(incr))/(x**2+z**2))-1)\n",
    "    H_a = ((((4/3)*np.pi*R**3*k*F_e)*np.cos(incr))/(x**2+z**2)**(3/2))*(((3*z**2)/(x**2+z**2))-((3*x*z*np.tan(incr))/(x**2+z**2))-1)\n",
    "    \n",
    "#    Z_a = (a*np.sin(np.deg2rad(inc))/b)*(c)-(((3*x*z*np.cos(np.deg2rad(inc)))/(x**2+z**2))-1)\n",
    "#    H_a = (a*np.cos(np.deg2rad(inc))/b)*(c)-(((3*x*z*np.tan(np.deg2rad(inc)))/(x**2+z**2))-1)\n",
    "    F_a = Z_a*np.sin(np.deg2rad(inc))+H_a*np.cos(np.deg2rad(inc))\n",
    "    \n",
    "    print('The vertical component:', Z_a)\n",
    "    print('The horizontal component:', H_a)\n",
    "    print('The total:', F_a)\n",
    "    \n",
    "    fig = plt.plot(x, Z_a, 'b:', label='Vertical')\n",
    "    fig = plt.plot(x, H_a, 'r:', label='Horizontal')\n",
    "    fig = plt.plot(x, F_a, 'g-', label='Total')\n",
    "    plt.xlabel('Position (x)')\n",
    "    plt.ylabel('Magnetic Field Anomaly (nT)')\n",
    "    plt.legend()\n",
    "    plt.show()"
   ]
  },
  {
   "cell_type": "markdown",
   "metadata": {},
   "source": [
    "Now we will use the function mag_sphere to calculate, and plot the magnetif field anomaly components and total force."
   ]
  },
  {
   "cell_type": "code",
   "execution_count": 5,
   "metadata": {},
   "outputs": [],
   "source": [
    "# input parameters\n",
    "z = 5 # depth from the spherical anomaly in meters\n",
    "R = 1 # radius of the spherical anomaly in meters\n",
    "k = 0.005 # magnetic susceptibility in cgs emu (cm^(1/2)/s)\n",
    "x = np.linspace(-50,50,101) # position on the surface in meters (x=0 is above center of sphere)\n",
    "inc = 45 #degrees # inclination in degrees\n"
   ]
  },
  {
   "cell_type": "code",
   "execution_count": 6,
   "metadata": {},
   "outputs": [
    {
     "name": "stdout",
     "output_type": "stream",
     "text": [
      "The vertical component: [-4.42210046e-03 -4.64566088e-03 -4.88354032e-03 -5.13676413e-03\n",
      " -5.40642154e-03 -5.69366406e-03 -5.99970125e-03 -6.32579308e-03\n",
      " -6.67323732e-03 -7.04335017e-03 -7.43743754e-03 -7.85675367e-03\n",
      " -8.30244221e-03 -8.77545338e-03 -9.27642839e-03 -9.80553882e-03\n",
      " -1.03622641e-02 -1.09450831e-02 -1.15510474e-02 -1.21751890e-02\n",
      " -1.28096953e-02 -1.34427588e-02 -1.40569624e-02 -1.46270026e-02\n",
      " -1.51164599e-02 -1.54731859e-02 -1.56226624e-02 -1.54583639e-02\n",
      " -1.48276396e-02 -1.35108272e-02 -1.11900189e-02 -7.40181499e-03\n",
      " -1.46497281e-03  7.63183552e-03  2.14065292e-02  4.21650988e-02\n",
      "  7.34568717e-02  1.20820995e-01  1.93025564e-01  3.04143720e-01\n",
      "  4.77043636e-01  7.49206981e-01  1.18212659e+00  1.87525229e+00\n",
      "  2.98223519e+00  4.71420136e+00  7.27782069e+00  1.06324732e+01\n",
      "  1.39846544e+01  1.54731859e+01  1.33337750e+01  8.22013001e+00\n",
      "  2.94413776e+00 -4.94533639e-01 -2.01301423e+00 -2.35710068e+00\n",
      " -2.17932572e+00 -1.83987017e+00 -1.49438645e+00 -1.19584960e+00\n",
      " -9.54087273e-01 -7.63594871e-01 -6.14988423e-01 -4.99181478e-01\n",
      " -4.08603849e-01 -3.37320790e-01 -2.80803294e-01 -2.35632922e-01\n",
      " -1.99236302e-01 -1.69672374e-01 -1.45470245e-01 -1.25508474e-01\n",
      " -1.08926122e-01 -9.50574017e-02 -8.33836076e-02 -7.34976330e-02\n",
      " -6.50776411e-02 -5.78674116e-02 -5.16615752e-02 -4.62944447e-02\n",
      " -4.16315097e-02 -3.75629149e-02 -3.39984271e-02 -3.08635247e-02\n",
      " -2.80963401e-02 -2.56452554e-02 -2.34669987e-02 -2.15251304e-02\n",
      " -1.97888307e-02 -1.82319250e-02 -1.68320955e-02 -1.55702406e-02\n",
      " -1.44299523e-02 -1.33970869e-02 -1.24594122e-02 -1.16063152e-02\n",
      " -1.08285594e-02 -1.01180828e-02 -9.46782849e-03 -8.87160240e-03\n",
      " -8.32395381e-03]\n",
      "The horizontal component: [-4.42210046e-03 -4.64566088e-03 -4.88354032e-03 -5.13676413e-03\n",
      " -5.40642154e-03 -5.69366406e-03 -5.99970125e-03 -6.32579308e-03\n",
      " -6.67323732e-03 -7.04335017e-03 -7.43743754e-03 -7.85675367e-03\n",
      " -8.30244221e-03 -8.77545338e-03 -9.27642839e-03 -9.80553882e-03\n",
      " -1.03622641e-02 -1.09450831e-02 -1.15510474e-02 -1.21751890e-02\n",
      " -1.28096953e-02 -1.34427588e-02 -1.40569624e-02 -1.46270026e-02\n",
      " -1.51164599e-02 -1.54731859e-02 -1.56226624e-02 -1.54583639e-02\n",
      " -1.48276396e-02 -1.35108272e-02 -1.11900189e-02 -7.40181499e-03\n",
      " -1.46497281e-03  7.63183552e-03  2.14065292e-02  4.21650988e-02\n",
      "  7.34568717e-02  1.20820995e-01  1.93025564e-01  3.04143720e-01\n",
      "  4.77043636e-01  7.49206981e-01  1.18212659e+00  1.87525229e+00\n",
      "  2.98223519e+00  4.71420136e+00  7.27782069e+00  1.06324732e+01\n",
      "  1.39846544e+01  1.54731859e+01  1.33337750e+01  8.22013001e+00\n",
      "  2.94413776e+00 -4.94533639e-01 -2.01301423e+00 -2.35710068e+00\n",
      " -2.17932572e+00 -1.83987017e+00 -1.49438645e+00 -1.19584960e+00\n",
      " -9.54087273e-01 -7.63594871e-01 -6.14988423e-01 -4.99181478e-01\n",
      " -4.08603849e-01 -3.37320790e-01 -2.80803294e-01 -2.35632922e-01\n",
      " -1.99236302e-01 -1.69672374e-01 -1.45470245e-01 -1.25508474e-01\n",
      " -1.08926122e-01 -9.50574017e-02 -8.33836076e-02 -7.34976330e-02\n",
      " -6.50776411e-02 -5.78674116e-02 -5.16615752e-02 -4.62944447e-02\n",
      " -4.16315097e-02 -3.75629149e-02 -3.39984271e-02 -3.08635247e-02\n",
      " -2.80963401e-02 -2.56452554e-02 -2.34669987e-02 -2.15251304e-02\n",
      " -1.97888307e-02 -1.82319250e-02 -1.68320955e-02 -1.55702406e-02\n",
      " -1.44299523e-02 -1.33970869e-02 -1.24594122e-02 -1.16063152e-02\n",
      " -1.08285594e-02 -1.01180828e-02 -9.46782849e-03 -8.87160240e-03\n",
      " -8.32395381e-03]\n",
      "The total: [-6.25379445e-03 -6.56995662e-03 -6.90636895e-03 -7.26448149e-03\n",
      " -7.64583467e-03 -8.05205693e-03 -8.48485887e-03 -8.94602237e-03\n",
      " -9.43738273e-03 -9.96080133e-03 -1.05181250e-02 -1.11111276e-02\n",
      " -1.17414264e-02 -1.24103652e-02 -1.31188508e-02 -1.38671260e-02\n",
      " -1.46544544e-02 -1.54786849e-02 -1.63356480e-02 -1.72183174e-02\n",
      " -1.81156448e-02 -1.90109319e-02 -1.98795469e-02 -2.06857054e-02\n",
      " -2.13779027e-02 -2.18823894e-02 -2.20937810e-02 -2.18614278e-02\n",
      " -2.09694491e-02 -1.91071951e-02 -1.58250764e-02 -1.04677471e-02\n",
      " -2.07178441e-03  1.07930453e-02  3.02734039e-02  5.96304545e-02\n",
      "  1.03883704e-01  1.70866689e-01  2.72979370e-01  4.30124174e-01\n",
      "  6.74641580e-01  1.05953867e+00  1.67177946e+00  2.65200723e+00\n",
      "  4.21751746e+00  6.66688749e+00  1.02923927e+01  1.50365878e+01\n",
      "  1.97772879e+01  2.18823894e+01  1.88568054e+01  1.16250193e+01\n",
      "  4.16363955e+00 -6.99376179e-01 -2.84683203e+00 -3.33344375e+00\n",
      " -3.08203199e+00 -2.60196935e+00 -2.11338159e+00 -1.69118673e+00\n",
      " -1.34928316e+00 -1.07988622e+00 -8.69724969e-01 -7.05949216e-01\n",
      " -5.77853105e-01 -4.77043636e-01 -3.97115827e-01 -3.33235273e-01\n",
      " -2.81762680e-01 -2.39952973e-01 -2.05725994e-01 -1.77495786e-01\n",
      " -1.54044799e-01 -1.34431467e-01 -1.17922229e-01 -1.03941349e-01\n",
      " -9.20336826e-02 -8.18368783e-02 -7.30605003e-02 -6.54702316e-02\n",
      " -5.88758456e-02 -5.31219836e-02 -4.80810367e-02 -4.36476152e-02\n",
      " -3.97342253e-02 -3.62678680e-02 -3.31873479e-02 -3.04411314e-02\n",
      " -2.79856328e-02 -2.57838356e-02 -2.38041777e-02 -2.20196455e-02\n",
      " -2.04070342e-02 -1.89463420e-02 -1.76202697e-02 -1.64138084e-02\n",
      " -1.53138956e-02 -1.43091300e-02 -1.33895315e-02 -1.25463404e-02\n",
      " -1.17718484e-02]\n"
     ]
    },
    {
     "data": {
      "image/png": "[encoded data removed]",
      "text/plain": [
       "<Figure size 432x288 with 1 Axes>"
      ]
     },
     "metadata": {
      "needs_background": "light"
     },
     "output_type": "display_data"
    }
   ],
   "source": [
    "# calling the function\n",
    "mag_sphere(z,R,k,x,inc)"
   ]
  },
  {
   "cell_type": "markdown",
   "metadata": {},
   "source": [
    "### **Question 7:** \n",
    "\n",
    "Use the mag_sphere function to show the horizontal, vertical, and total field curves for each of the following inclinations. For each plot, write a 1-2 sentence explanation describing the information shown in each plot and what it means for the magnetic anomalies you would see at those places on Earth's surface.\n",
    "\n",
    ">a. *89.9999° (north pole)*\n",
    ">> *For 1 bonus point: Why not just use 90°?*\n"
   ]
  },
  {
   "cell_type": "code",
   "execution_count": 7,
   "metadata": {},
   "outputs": [
    {
     "name": "stdout",
     "output_type": "stream",
     "text": [
      "The vertical component: [-4.88788607e-03 -5.18363101e-03 -5.50349564e-03 -5.84996344e-03\n",
      " -6.22582737e-03 -6.63423524e-03 -7.07874255e-03 -7.56337448e-03\n",
      " -8.09269860e-03 -8.67191050e-03 -9.30693477e-03 -1.00045446e-02\n",
      " -1.07725037e-02 -1.16197349e-02 -1.25565216e-02 -1.35947484e-02\n",
      " -1.47481896e-02 -1.60328559e-02 -1.74674111e-02 -1.90736751e-02\n",
      " -2.08772298e-02 -2.29081498e-02 -2.52018836e-02 -2.78003098e-02\n",
      " -3.07530005e-02 -3.41187127e-02 -3.79671260e-02 -4.23808082e-02\n",
      " -4.74573382e-02 -5.33113934e-02 -6.00763790e-02 -6.79047432e-02\n",
      " -7.69652930e-02 -8.74342624e-02 -9.94739162e-02 -1.13186787e-01\n",
      " -1.28522676e-01 -1.45094207e-01 -1.61814829e-01 -1.76190759e-01\n",
      " -1.82936926e-01 -1.71278326e-01 -1.19744397e-01  1.35709097e-02\n",
      "  3.07905183e-01  9.03911581e-01  2.01896733e+00  3.88772981e+00\n",
      "  6.49190282e+00  9.08597674e+00  1.02265386e+01  9.08596703e+00\n",
      "  6.49188804e+00  3.88771492e+00  2.01895489e+00  9.03902115e-01\n",
      "  3.07898274e-01  1.35659366e-02 -1.19747980e-01 -1.71280929e-01\n",
      " -1.82938841e-01 -1.76192188e-01 -1.61815911e-01 -1.45095037e-01\n",
      " -1.28523321e-01 -1.13187295e-01 -9.94743208e-02 -8.74345880e-02\n",
      " -7.69655578e-02 -6.79049605e-02 -6.00765587e-02 -5.33115433e-02\n",
      " -4.74574642e-02 -4.23809147e-02 -3.79672167e-02 -3.41187904e-02\n",
      " -3.07530673e-02 -2.78003677e-02 -2.52019339e-02 -2.29081938e-02\n",
      " -2.08772684e-02 -1.90737091e-02 -1.74674411e-02 -1.60328825e-02\n",
      " -1.47482133e-02 -1.35947696e-02 -1.25565406e-02 -1.16197520e-02\n",
      " -1.07725191e-02 -1.00045585e-02 -9.30694735e-03 -8.67192191e-03\n",
      " -8.09270899e-03 -7.56338395e-03 -7.07875120e-03 -6.63424316e-03\n",
      " -6.22583463e-03 -5.84997010e-03 -5.50350178e-03 -5.18363667e-03\n",
      " -4.88789130e-03]\n",
      "The horizontal component: [ 1.49628392e-03  1.62056555e-03  1.75798466e-03  1.91023832e-03\n",
      "  2.07928410e-03  2.26738663e-03  2.47717372e-03  2.71170419e-03\n",
      "  2.97455028e-03  3.26989809e-03  3.60267062e-03  3.97867912e-03\n",
      "  4.40481011e-03  4.88925767e-03  5.44181340e-03  6.07423029e-03\n",
      "  6.80068199e-03  7.63834569e-03  8.60814666e-03  9.73571516e-03\n",
      "  1.10526248e-02  1.25980065e-02  1.44206667e-02  1.65818914e-02\n",
      "  1.91591847e-02  2.22513002e-02  2.59850701e-02  3.05247636e-02\n",
      "  3.60850379e-02  4.29490439e-02  5.14940113e-02  6.22278004e-02\n",
      "  7.58417082e-02  9.32876233e-02  1.15892003e-01  1.45525998e-01\n",
      "  1.84861623e-01  2.37759842e-01  3.09858937e-01  4.09458751e-01\n",
      "  5.48813332e-01  7.45894852e-01  1.02639569e+00  1.42468445e+00\n",
      "  1.97936879e+00  2.71172212e+00  3.56287607e+00  4.26701914e+00\n",
      "  4.23385618e+00  2.78143582e+00  1.78486769e-05 -2.78140411e+00\n",
      " -4.23383351e+00 -4.26700556e+00 -3.56286903e+00 -2.71171897e+00\n",
      " -1.97936772e+00 -1.42468441e+00 -1.02639611e+00 -7.45895450e-01\n",
      " -5.48813970e-01 -4.09459366e-01 -3.09859502e-01 -2.37760348e-01\n",
      " -1.84862072e-01 -1.45526393e-01 -1.15892351e-01 -9.32879285e-02\n",
      " -7.58419769e-02 -6.22280374e-02 -5.14942210e-02 -4.29492299e-02\n",
      " -3.60852036e-02 -3.05249116e-02 -2.59852026e-02 -2.22514193e-02\n",
      " -1.91592920e-02 -1.65819884e-02 -1.44207547e-02 -1.25980864e-02\n",
      " -1.10526977e-02 -9.73578174e-03 -8.60820763e-03 -7.63840166e-03\n",
      " -6.80073347e-03 -6.07427774e-03 -5.44185723e-03 -4.88929823e-03\n",
      " -4.40484772e-03 -3.97871404e-03 -3.60270311e-03 -3.26992836e-03\n",
      " -2.97457853e-03 -2.71173060e-03 -2.47719843e-03 -2.26740979e-03\n",
      " -2.07930583e-03 -1.91025874e-03 -1.75800387e-03 -1.62058364e-03\n",
      " -1.49630099e-03]\n",
      "The total: [-4.88788346e-03 -5.18362818e-03 -5.50349257e-03 -5.84996010e-03\n",
      " -6.22582374e-03 -6.63423128e-03 -7.07873823e-03 -7.56336975e-03\n",
      " -8.09269341e-03 -8.67190479e-03 -9.30692848e-03 -1.00045377e-02\n",
      " -1.07724960e-02 -1.16197264e-02 -1.25565121e-02 -1.35947378e-02\n",
      " -1.47481777e-02 -1.60328425e-02 -1.74673961e-02 -1.90736581e-02\n",
      " -2.08772105e-02 -2.29081279e-02 -2.52018584e-02 -2.78002809e-02\n",
      " -3.07529670e-02 -3.41186739e-02 -3.79670807e-02 -4.23807549e-02\n",
      " -4.74572752e-02 -5.33113184e-02 -6.00762891e-02 -6.79046346e-02\n",
      " -7.69651607e-02 -8.74340996e-02 -9.94737140e-02 -1.13186533e-01\n",
      " -1.28522353e-01 -1.45093792e-01 -1.61814288e-01 -1.76190044e-01\n",
      " -1.82935968e-01 -1.71277024e-01 -1.19742605e-01  1.35733962e-02\n",
      "  3.07908638e-01  9.03916313e-01  2.01897355e+00  3.88773726e+00\n",
      "  6.49191021e+00  9.08598160e+00  1.02265386e+01  9.08596218e+00\n",
      "  6.49188065e+00  3.88770747e+00  2.01894868e+00  9.03897382e-01\n",
      "  3.07894819e-01  1.35634501e-02 -1.19749771e-01 -1.71282231e-01\n",
      " -1.82939799e-01 -1.76192903e-01 -1.61816452e-01 -1.45095452e-01\n",
      " -1.28523644e-01 -1.13187549e-01 -9.94745230e-02 -8.74347509e-02\n",
      " -7.69656901e-02 -6.79050691e-02 -6.00766486e-02 -5.33116183e-02\n",
      " -4.74575272e-02 -4.23809680e-02 -3.79672621e-02 -3.41188293e-02\n",
      " -3.07531008e-02 -2.78003967e-02 -2.52019591e-02 -2.29082158e-02\n",
      " -2.08772877e-02 -1.90737261e-02 -1.74674562e-02 -1.60328958e-02\n",
      " -1.47482252e-02 -1.35947802e-02 -1.25565501e-02 -1.16197605e-02\n",
      " -1.07725268e-02 -1.00045655e-02 -9.30695364e-03 -8.67192762e-03\n",
      " -8.09271418e-03 -7.56338868e-03 -7.07875552e-03 -6.63424711e-03\n",
      " -6.22583826e-03 -5.84997344e-03 -5.50350485e-03 -5.18363950e-03\n",
      " -4.88789391e-03]\n"
     ]
    },
    {
     "data": {
      "image/png": "[encoded data removed]",
      "text/plain": [
       "<Figure size 432x288 with 1 Axes>"
      ]
     },
     "metadata": {
      "needs_background": "light"
     },
     "output_type": "display_data"
    },
    {
     "name": "stdout",
     "output_type": "stream",
     "text": [
      "This plot shows that when point P is located all the way to the north, all the anomaly comes from the horizontal components, as we stated above. It is also important to note that the total anomaly is actually zero, as the anomaly in the horizontal direction is equal and opposite as we pass over the pole.\n",
      "We use 89.9999 because when using 90, the function is calling for the cosine of 90, which is zero and will result in crazy high values in our output. This is similar to the if statement that changes a 0 to 1e-10. A value of zero would give us unusable data.\n"
     ]
    }
   ],
   "source": [
    "# answer here\n",
    "mag_sphere(z,R,k,x,89.9999)\n",
    "print('This plot shows that when point P is located all the way to the north, all the anomaly comes from the horizontal components, as we stated above. It is also important to note that the total anomaly is actually zero, as the anomaly in the horizontal direction is equal and opposite as we pass over the pole.')\n",
    "print('We use 89.9999 because when using 90, the function is calling for the cosine of 90, which is zero and will result in crazy high values in our output. This is similar to the if statement that changes a 0 to 1e-10. A value of zero would give us unusable data.')"
   ]
  },
  {
   "cell_type": "markdown",
   "metadata": {},
   "source": [
    ">b. *0° (Equator)*"
   ]
  },
  {
   "cell_type": "code",
   "execution_count": 27,
   "metadata": {},
   "outputs": [
    {
     "name": "stdout",
     "output_type": "stream",
     "text": [
      "The vertical component: [ 1.2970297   1.30296785  1.30914556  1.31557744  1.32227931  1.32926829\n",
      "  1.33656298  1.34418356  1.35215204  1.36049238  1.36923077  1.37839586\n",
      "  1.38801906  1.39813486  1.40878123  1.42        1.43183743  1.4443447\n",
      "  1.45757865  1.47160243  1.48648649  1.50230947  1.51915946  1.53713528\n",
      "  1.55634807  1.57692308  1.59900166  1.62274368  1.64833006  1.67596567\n",
      "  1.70588235  1.73834197  1.77363897  1.81210191  1.85409253  1.9\n",
      "  1.95022624  2.00515464  2.06508876  2.13013699  2.2         2.27358491\n",
      "  2.34831461  2.41891892  2.47540984  2.5         2.46341463  2.32352941\n",
      "  2.03448276  1.57692308  1.          0.42307692 -0.03448276 -0.32352941\n",
      " -0.46341463 -0.5        -0.47540984 -0.41891892 -0.34831461 -0.27358491\n",
      " -0.2        -0.13013699 -0.06508876 -0.00515464  0.04977376  0.1\n",
      "  0.14590747  0.18789809  0.22636103  0.26165803  0.29411765  0.32403433\n",
      "  0.35166994  0.37725632  0.40099834  0.42307692  0.44365193  0.46286472\n",
      "  0.48084054  0.49769053  0.51351351  0.52839757  0.54242135  0.5556553\n",
      "  0.56816257  0.58        0.59121877  0.60186514  0.61198094  0.62160414\n",
      "  0.63076923  0.63950762  0.64784796  0.65581644  0.66343702  0.67073171\n",
      "  0.67772069  0.68442256  0.69085444  0.69703215  0.7029703 ]\n",
      "The horizontal component: [ 1.00029926  1.00033073  1.00036625  1.00040644  1.00045202  1.00050387\n",
      "  1.000563    1.00063063  1.00070823  1.00079754  1.00090067  1.00102018\n",
      "  1.00115917  1.00132143  1.00151162  1.0017355   1.00200021  1.00231466\n",
      "  1.00269006  1.00314056  1.00368422  1.00434415  1.00515025  1.00614146\n",
      "  1.00736894  1.00890054  1.01082714  1.01327167  1.01640233  1.02045197\n",
      "  1.02574706  1.03275154  1.04213436  1.05487516  1.07243261  1.09701746\n",
      "  1.13204418  1.18289238  1.25821602  1.37223551  1.54881365  1.82877239\n",
      "  2.28299487  3.03526347  4.29894709  6.42344109  9.90718138 15.2233745\n",
      " 22.16922422 28.81419966 31.67961576 28.81419966 22.16922422 15.2233745\n",
      "  9.90718138  6.42344109  4.29894709  3.03526347  2.28299487  1.82877239\n",
      "  1.54881365  1.37223551  1.25821602  1.18289238  1.13204418  1.09701746\n",
      "  1.07243261  1.05487516  1.04213436  1.03275154  1.02574706  1.02045197\n",
      "  1.01640233  1.01327167  1.01082714  1.00890054  1.00736894  1.00614146\n",
      "  1.00515025  1.00434415  1.00368422  1.00314056  1.00269006  1.00231466\n",
      "  1.00200021  1.0017355   1.00151162  1.00132143  1.00115917  1.00102018\n",
      "  1.00090067  1.00079754  1.00070823  1.00063063  1.000563    1.00050387\n",
      "  1.00045202  1.00040644  1.00036625  1.00033073  1.00029926]\n",
      "The total: [ 1.00029926  1.00033073  1.00036625  1.00040644  1.00045202  1.00050387\n",
      "  1.000563    1.00063063  1.00070823  1.00079754  1.00090067  1.00102018\n",
      "  1.00115917  1.00132143  1.00151162  1.0017355   1.00200021  1.00231466\n",
      "  1.00269006  1.00314056  1.00368422  1.00434415  1.00515025  1.00614146\n",
      "  1.00736894  1.00890054  1.01082714  1.01327167  1.01640233  1.02045197\n",
      "  1.02574706  1.03275154  1.04213436  1.05487516  1.07243261  1.09701746\n",
      "  1.13204418  1.18289238  1.25821602  1.37223551  1.54881365  1.82877239\n",
      "  2.28299487  3.03526347  4.29894709  6.42344109  9.90718138 15.2233745\n",
      " 22.16922422 28.81419966 31.67961576 28.81419966 22.16922422 15.2233745\n",
      "  9.90718138  6.42344109  4.29894709  3.03526347  2.28299487  1.82877239\n",
      "  1.54881365  1.37223551  1.25821602  1.18289238  1.13204418  1.09701746\n",
      "  1.07243261  1.05487516  1.04213436  1.03275154  1.02574706  1.02045197\n",
      "  1.01640233  1.01327167  1.01082714  1.00890054  1.00736894  1.00614146\n",
      "  1.00515025  1.00434415  1.00368422  1.00314056  1.00269006  1.00231466\n",
      "  1.00200021  1.0017355   1.00151162  1.00132143  1.00115917  1.00102018\n",
      "  1.00090067  1.00079754  1.00070823  1.00063063  1.000563    1.00050387\n",
      "  1.00045202  1.00040644  1.00036625  1.00033073  1.00029926]\n"
     ]
    },
    {
     "data": {
      "image/png": "[encoded data removed]",
      "text/plain": [
       "<Figure size 432x288 with 1 Axes>"
      ]
     },
     "metadata": {
      "needs_background": "light"
     },
     "output_type": "display_data"
    }
   ],
   "source": [
    "# answer here\n",
    "mag_sphere(z,R,k,x,0)\n",
    "print('This plot shows that at the equator, almost all of the anomaly comes from the horizontal aspects, since the field lines align with the horizon. Also, there is very little in terms of negative anomaly and anomaly in general, so the total anomaly is essentially equal to the horizontal anomaly.')"
   ]
  },
  {
   "cell_type": "markdown",
   "metadata": {},
   "source": [
    ">c. *45° (Salem, OR)*"
   ]
  },
  {
   "cell_type": "code",
   "execution_count": 26,
   "metadata": {},
   "outputs": [
    {
     "name": "stdout",
     "output_type": "stream",
     "text": [
      "The vertical component: [ 1.21022681  1.21444623  1.21883768  1.22341191  1.22818057  1.23315632\n",
      "  1.23835299  1.24378565  1.2494708   1.25542654  1.26167275  1.26823135\n",
      "  1.27512659  1.28238533  1.29003743  1.29811626  1.30665915  1.31570813\n",
      "  1.32531067  1.33552068  1.34639971  1.35801847  1.37045873  1.38381574\n",
      "  1.39820146  1.41374866  1.43061657  1.44899835  1.46913159  1.49131296\n",
      "  1.51591923  1.543438    1.5745136   1.610017    1.6511549   1.69964375\n",
      "  1.75799369  1.82998291  1.92146773  2.04179539  2.20631086  2.44085402\n",
      "  2.78981273  3.33015664  4.19392268  5.59631119  7.84156224 11.20838235\n",
      " 15.53213552 19.54058595 21.00066248 18.72469351 14.06915597  9.3366291\n",
      "  5.77198141  3.47499085  2.10737808  1.32350226  0.88300793  0.63973297\n",
      "  0.50925459  0.44354034  0.41520476  0.40847958  0.41417085  0.42685155\n",
      "  0.44328567  0.46153146  0.48042288  0.49926478  0.51765083  0.53535315\n",
      "  0.55225443  0.56830579  0.58350029  0.59785622  0.61140646  0.62419174\n",
      "  0.63625638  0.64764561  0.65840392  0.66857412  0.67819674  0.68730982\n",
      "  0.6959488   0.70414656  0.71193348  0.7193376   0.72638477  0.7330988\n",
      "  0.73950159  0.74561333  0.75145261  0.75703659  0.76238106  0.76750064\n",
      "  0.7724088   0.77711802  0.78163985  0.78598499  0.79016338]\n",
      "The horizontal component: [ 1.2972248   1.30318346  1.30938432  1.3158424   1.32257399  1.32959677\n",
      "  1.33693001  1.34459469  1.35261375  1.36101231  1.36981794  1.37906094\n",
      "  1.38877474  1.39899633  1.40976668  1.42113141  1.4331414   1.44585368\n",
      "  1.45933235  1.47364983  1.4888883   1.50514151  1.52251701  1.54113902\n",
      "  1.56115203  1.58272552  1.6060601   1.63139575  1.65902307  1.68929872\n",
      "  1.72266738  1.75969336  1.80110721  1.84787614  1.90131281  1.96324765\n",
      "  2.03630852  2.12438588  2.233425    2.37280485  2.55778273  2.8138784\n",
      "  3.18472493  3.74574837  4.62606022  6.03565102  8.27018646 11.59603514\n",
      " 15.83512851 19.70956281 21.00066248 18.55571665 13.76616299  8.94897631\n",
      "  5.34335719  3.03565102  1.67524054  0.90791053  0.48809572  0.26670859\n",
      "  0.15778273  0.11253088  0.10324749  0.11407661  0.13585603  0.16324765\n",
      "  0.19312776  0.22367232  0.25382927  0.28300942  0.31090268  0.33736739\n",
      "  0.36236295  0.38590839  0.40805677  0.42887937  0.44845589  0.46686846\n",
      "  0.4841981   0.50052257  0.51591533  0.53044496  0.54417506  0.55716427\n",
      "  0.56946655  0.58113141  0.59220423  0.6027266   0.61273662  0.62226921\n",
      "  0.6313564   0.64002755  0.64830967  0.65622756  0.66380405  0.67106019\n",
      "  0.67801537  0.68468752  0.69109321  0.69724776  0.70316539]\n",
      "The total: [ 1.77303603  1.78023302  1.78772292  1.79552395  1.80365584  1.81214009\n",
      "  1.82100007  1.83026129  1.83995163  1.85010165  1.86074491  1.87191833\n",
      "  1.8836627   1.89602315  1.9090498   1.92279846  1.93733155  1.95271908\n",
      "  1.96903996  1.98638352  2.00485138  2.02455984  2.04564276  2.06825535\n",
      "  2.09257892  2.11882722  2.14725466  2.17816756  2.21193937  2.24903209\n",
      "  2.29002655  2.33566658  2.38692437  2.44509969  2.51197401  2.59005535\n",
      "  2.68297682  2.79616099  2.93795283  3.12159376  3.36872289  3.71565693\n",
      "  4.22463609  5.00342042  6.23666972  8.22503936 11.39272676 16.12515824\n",
      " 22.1800051  27.75404635 29.6994217  26.36123083 19.6825428  12.92987559\n",
      "  7.8597313   4.60371901  2.67471528  1.57784712  0.96951669  0.64095098\n",
      "  0.47166661  0.39320172  0.3666011   0.36950302  0.38892774  0.41726314\n",
      "  0.45001225  0.48451224  0.51919468  0.55315139  0.5858758   0.61710661\n",
      "  0.64673215  0.67473131  0.70113672  0.7260117   0.74943585  0.77149607\n",
      "  0.79228096  0.81187751  0.83036911  0.84783452  0.86434738  0.87997607\n",
      "  0.89478378  0.90882877  0.92216462  0.93484056  0.94690182  0.95838991\n",
      "  0.96934298  0.97979606  0.9897814   0.99932866  1.00846517  1.01721612\n",
      "  1.02560477  1.03365261  1.04137953  1.04880394  1.0559429 ]\n"
     ]
    },
    {
     "data": {
      "image/png": "[encoded data removed]",
      "text/plain": [
       "<Figure size 432x288 with 1 Axes>"
      ]
     },
     "metadata": {
      "needs_background": "light"
     },
     "output_type": "display_data"
    }
   ],
   "source": [
    "# answer here\n",
    "mag_sphere(z,R,k,x,45)\n",
    "print('Here, we can see anomalies in both directions. This is because the field lines would be about 45 degrees off from the plane here. Again, the anomaly is not too large, but it is equally spread from both vertical and horizontal anomalies.')"
   ]
  },
  {
   "cell_type": "markdown",
   "metadata": {},
   "source": [
    "## Buried Rectangular Body \n",
    "\n",
    "Now, open GRAVMAG.\n",
    "1. Make sure the units are meters and cgs.\n",
    "\n",
    "2. It will default to gravity, but we want to change this. Go to **View**, uncheck Gravity and check Induced Magnetics.\n",
    "\n",
    "3. Add a body.\n",
    "\n",
    "4. From the **Window** menu, open the Section.\n",
    "\n",
    "5. Change your body so that it is a small rectangle in the middle.\n",
    "> a. You can do this either by changing the vertices by typing in the **Model Table** or\n",
    "by clicking and dragging them in the **Section** window.\n",
    "\n",
    "6. At the top of the **Model Table** you can enter **Latitude** and the **Profile Azimuth**.\n",
    "\n",
    "> a. The **Profile Azimuth** is the azimuth (in degrees from North) of your magnetic\n",
    "line. If your magnetic line trends North/South, this will be 0. If your magnetic\n",
    "line trends East/West, this will be 90.\n",
    "\n",
    "> b. For now, change the profile azimuth to 0 for a North/South line.\n",
    "\n",
    "7. By default, GRAVMAG plots the total field values, but you can change the plot to look at the horizontal or vertical components.\n",
    "\n",
    "> a. Open the **Magnetic Data** window.\n",
    "\n",
    "> b. Use the drop-down menu on the data table to change between total, horizontal,\n",
    "or vertical components.\n",
    "\n",
    "> c. Play around with the latitude a little bit. You will see that the results are similar\n",
    "to those of a buried sphere, which we already have a basic understanding of\n",
    "from the exercise above."
   ]
  },
  {
   "cell_type": "markdown",
   "metadata": {},
   "source": [
    "### **Question 8:**\n",
    "Set the latitude to 90° (North pole).\n",
    ">a. Move the rectangle deeper into the subsurface. *What does this do to the curve?*\n",
    "\n",
    "Moving it deeper decreases the size of the magnetic anomaly in all components\n",
    "\n",
    ">b. Increase the susceptibility. *What does this do to the total field?*\n",
    "\n",
    "Increeasing the susceptibility had similar affects, the more susceptible, the larger the strength of the anomaly, like gravity. Seems to scale linearly. "
   ]
  },
  {
   "cell_type": "markdown",
   "metadata": {},
   "source": [
    "Despite the added complication of the latitude dependence of magnetic data, you can see that manipulating a simple rectangular body in the subsurface affects magnetic measurements similarly to how it affects gravity measurements. This also means that magnetic surveys have the same problem as gravity surveys: there are multiple subsurface models that can fit the same data set, the inverse problem is not unique. Therefore, the effectiveness of a magnetic study depends on whether there is previous geologic knowledge of the area.\n",
    "\n",
    "## Real Buried Body: Magnetic Survey\n",
    "Okay, lets finally get to an example. You are in Arizona (Latitude = 34°N) at an archeological site and are looking for old buried walls. Your colleagues already found one wall, composed of basalt (susceptibility = 0.006 emu). Now you are conducting a magnetic survey to find more walls. You take 101 measurements in a North/South trending line. The results can be found in ArchealogicalData.txt. Load these results into GRAVMAG."
   ]
  },
  {
   "cell_type": "markdown",
   "metadata": {},
   "source": [
    "### **Question 9:** \n",
    "\n",
    "Create a subsurface model that fits the magnetic data.\n",
    ">a. *Take a screenshot of the shallow subsurface configuration. Submit to Canvas and import here.*\n",
    "\n",
    "![](q9x.png)"
   ]
  },
  {
   "cell_type": "markdown",
   "metadata": {},
   "source": [
    "import here"
   ]
  },
  {
   "cell_type": "markdown",
   "metadata": {},
   "source": [
    ">b. *Does this single survey give you any information about the direction the walls are\n",
    "extending? If not, how could you figure this out?*"
   ]
  },
  {
   "cell_type": "markdown",
   "metadata": {},
   "source": [
    "No not really, since the curves will be flatter either if the wall is wider or if the wall is bigger and deeper into the subsurface. From just this test it is hard to tell exact dimensions and depth. "
   ]
  },
  {
   "cell_type": "markdown",
   "metadata": {},
   "source": [
    "### **Question 10:** \n",
    "\n",
    "> You performed both an induced magnetic survey and a gravity survey looking for\n",
    "features in the shallow subsurface. When you look at your data, the induced magnetism curve is completely flat, but the gravity survey reveals a large negative anomaly. *What could this feature be? Why is there no induced magnetics?*"
   ]
  },
  {
   "cell_type": "markdown",
   "metadata": {},
   "source": [
    "Since the magnetic anomales are a result of changes in the magnetism of the rocks in the subsurface, and gravity anomalies result from density changes, it makes sense that we can see one and not the other. In this case, we are likely looking at a subsurface body with above expected desnity, but does not carry and unique magneticism levels. Something like granite can carry properties of high density, wh8ile not being overly magnetic. "
   ]
  }
 ],
 "metadata": {
  "interpreter": {
   "hash": "dca0ade3e726a953b501b15e8e990130d2b7799f14cfd9f4271676035ebe5511"
  },
  "kernelspec": {
   "display_name": "Python 3.9.12 64-bit ('base': conda)",
   "name": "python3"
  },
  "language_info": {
   "codemirror_mode": {
    "name": "ipython",
    "version": 3
   },
   "file_extension": ".py",
   "mimetype": "text/x-python",
   "name": "python",
   "nbconvert_exporter": "python",
   "pygments_lexer": "ipython3",
   "version": "3.9.12"
  }
 },
 "nbformat": 4,
 "nbformat_minor": 5
}